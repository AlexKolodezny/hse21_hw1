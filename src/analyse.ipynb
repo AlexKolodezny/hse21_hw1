{
 "cells": [
  {
   "cell_type": "code",
   "execution_count": 2,
   "metadata": {},
   "outputs": [
    {
     "name": "stdout",
     "output_type": "stream",
     "text": [
      "Total count contigs: 619\n"
     ]
    }
   ],
   "source": [
    "def count(file):\n",
    "    return len([line for line in open(file, \"r\") if line[0] == \">\"])\n",
    "\n",
    "print(\"Total count contigs: {}\".format(count(\"contigs.fasta\")))"
   ]
  },
  {
   "cell_type": "code",
   "execution_count": 4,
   "metadata": {},
   "outputs": [
    {
     "name": "stdout",
     "output_type": "stream",
     "text": [
      "Total length of contigs: 3976120\n"
     ]
    }
   ],
   "source": [
    "def total_size(file):\n",
    "    return sum([len(line) for line in open(file, \"r\") if line[0] != \">\"])\n",
    "\n",
    "print(\"Total length of contigs: {}\".format(total_size(\"contigs.fasta\")))"
   ]
  },
  {
   "cell_type": "code",
   "execution_count": 11,
   "metadata": {},
   "outputs": [
    {
     "name": "stdout",
     "output_type": "stream",
     "text": [
      "Max contig: 181549\n"
     ]
    }
   ],
   "source": [
    "def contigs(file):\n",
    "    contigs = []\n",
    "    with open(file, \"r\") as f:\n",
    "        contig = \"\"\n",
    "        for line in f:\n",
    "            if line[0] == \">\":\n",
    "                contigs.append(contig)\n",
    "                contig = \"\"\n",
    "            else:\n",
    "                contig += line\n",
    "        contigs.append(contig)\n",
    "    return contigs\n",
    "\n",
    "def longest_contig(file):\n",
    "    return max([len(contig) for contig in contigs(file)])\n",
    "\n",
    "print(\"Max contig: {}\".format(longest_contig(\"contigs.fasta\")))\n"
   ]
  },
  {
   "cell_type": "code",
   "execution_count": 12,
   "metadata": {},
   "outputs": [
    {
     "name": "stdout",
     "output_type": "stream",
     "text": [
      "N50: 47742\n"
     ]
    }
   ],
   "source": [
    "def N50(file):\n",
    "    lens = [len(contig) for contig in contigs(file)]\n",
    "    sm = sum(lens)\n",
    "    lens.sort(reverse=True)\n",
    "    cur = 0\n",
    "    for sz in lens:\n",
    "        cur += sz\n",
    "        if 2 * cur >= sm:\n",
    "            return sz\n",
    "\n",
    "print(\"N50: {}\".format(N50(\"contigs.fasta\")))"
   ]
  },
  {
   "cell_type": "code",
   "execution_count": 13,
   "metadata": {},
   "outputs": [
    {
     "name": "stdout",
     "output_type": "stream",
     "text": [
      "Count scaffolds: 66\n",
      "Total legnth of scaffolds: 3922293\n",
      "Max scaffold: 3882835\n",
      "N50 scaffold: 3882835\n"
     ]
    }
   ],
   "source": [
    "print(\"Count scaffolds: {}\".format(count(\"scaffolds.fasta\")))\n",
    "print(\"Total legnth of scaffolds: {}\".format(total_size(\"scaffolds.fasta\")))\n",
    "print(\"Max scaffold: {}\".format(longest_contig(\"scaffolds.fasta\")))\n",
    "print(\"N50 scaffold: {}\".format(N50(\"scaffolds.fasta\")))"
   ]
  },
  {
   "cell_type": "code",
   "execution_count": 16,
   "metadata": {},
   "outputs": [
    {
     "name": "stdout",
     "output_type": "stream",
     "text": [
      "Gap count: {} 61\n",
      "Gap size: {} 6524\n"
     ]
    }
   ],
   "source": [
    "import re\n",
    "def find_gaps(file):\n",
    "    return re.findall(\"N+\", file.readlines()[1])\n",
    "\n",
    "def gap_length(file):\n",
    "    return sum([len(gap) for gap in find_gaps(file)])\n",
    "\n",
    "print(\"Gap count: {}\", len(find_gaps(open(\"longest_with_gaps.fasta\", \"r\"))))\n",
    "print(\"Gap size: {}\", gap_length(open(\"longest_with_gaps.fasta\", \"r\")))"
   ]
  },
  {
   "cell_type": "code",
   "execution_count": 17,
   "metadata": {},
   "outputs": [
    {
     "name": "stdout",
     "output_type": "stream",
     "text": [
      "Gap count after gap close: {} 7\n",
      "Gap size after gap close: {} 1889\n"
     ]
    }
   ],
   "source": [
    "print(\"Gap count after gap close: {}\", len(find_gaps(open(\"longest.fasta\", \"r\"))))\n",
    "print(\"Gap size after gap close: {}\", gap_length(open(\"longest.fasta\", \"r\")))"
   ]
  }
 ],
 "metadata": {
  "interpreter": {
   "hash": "e7370f93d1d0cde622a1f8e1c04877d8463912d04d973331ad4851f04de6915a"
  },
  "kernelspec": {
   "display_name": "Python 3.9.7 64-bit",
   "name": "python3"
  },
  "language_info": {
   "codemirror_mode": {
    "name": "ipython",
    "version": 3
   },
   "file_extension": ".py",
   "mimetype": "text/x-python",
   "name": "python",
   "nbconvert_exporter": "python",
   "pygments_lexer": "ipython3",
   "version": "3.9.7"
  },
  "orig_nbformat": 4
 },
 "nbformat": 4,
 "nbformat_minor": 2
}
